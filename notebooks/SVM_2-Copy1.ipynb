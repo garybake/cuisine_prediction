{
 "cells": [
  {
   "cell_type": "code",
   "execution_count": null,
   "metadata": {},
   "outputs": [],
   "source": []
  },
  {
   "cell_type": "code",
   "execution_count": 1,
   "metadata": {},
   "outputs": [],
   "source": [
    "import json\n",
    "import os\n",
    "\n",
    "import pandas as pd\n",
    "\n",
    "from sklearn.feature_extraction.text import TfidfVectorizer\n",
    "from sklearn.preprocessing import LabelEncoder\n",
    "# from sklearn.svm import SVC\n",
    "# from sklearn.multiclass import OneVsRestClassifier"
   ]
  },
  {
   "cell_type": "markdown",
   "metadata": {},
   "source": [
    "### Import data"
   ]
  },
  {
   "cell_type": "code",
   "execution_count": 2,
   "metadata": {},
   "outputs": [],
   "source": [
    "data_folder = '../data'\n",
    "train_file = os.path.join(data_folder, 'train.json')\n",
    "test_file = os.path.join(data_folder, 'test.json')"
   ]
  },
  {
   "cell_type": "code",
   "execution_count": 3,
   "metadata": {},
   "outputs": [],
   "source": [
    "train = json.load(open(train_file)) \n",
    "test = json.load(open(test_file)) "
   ]
  },
  {
   "cell_type": "code",
   "execution_count": 4,
   "metadata": {},
   "outputs": [
    {
     "data": {
      "text/plain": [
       "(39774, 9944)"
      ]
     },
     "execution_count": 4,
     "metadata": {},
     "output_type": "execute_result"
    }
   ],
   "source": [
    "len(train), len(test)"
   ]
  },
  {
   "cell_type": "code",
   "execution_count": 5,
   "metadata": {},
   "outputs": [
    {
     "data": {
      "text/plain": [
       "[{'id': 10259,\n",
       "  'cuisine': 'greek',\n",
       "  'ingredients': ['romaine lettuce',\n",
       "   'black olives',\n",
       "   'grape tomatoes',\n",
       "   'garlic',\n",
       "   'pepper',\n",
       "   'purple onion',\n",
       "   'seasoning',\n",
       "   'garbanzo beans',\n",
       "   'feta cheese crumbles']}]"
      ]
     },
     "execution_count": 5,
     "metadata": {},
     "output_type": "execute_result"
    }
   ],
   "source": [
    "train[:1]"
   ]
  },
  {
   "cell_type": "markdown",
   "metadata": {},
   "source": [
    "### Prepare data"
   ]
  },
  {
   "cell_type": "code",
   "execution_count": 6,
   "metadata": {},
   "outputs": [],
   "source": [
    "train_text = [\" \".join(doc['ingredients']).lower() for doc in train]\n",
    "target = [doc['cuisine'] for doc in train]\n",
    "test_text = [\" \".join(doc['ingredients']).lower() for doc in test]"
   ]
  },
  {
   "cell_type": "code",
   "execution_count": 7,
   "metadata": {},
   "outputs": [
    {
     "data": {
      "text/plain": [
       "['romaine lettuce black olives grape tomatoes garlic pepper purple onion seasoning garbanzo beans feta cheese crumbles',\n",
       " 'plain flour ground pepper salt tomatoes ground black pepper thyme eggs green tomatoes yellow corn meal milk vegetable oil',\n",
       " 'eggs pepper salt mayonaise cooking oil green chilies grilled chicken breasts garlic powder yellow onion soy sauce butter chicken livers',\n",
       " 'water vegetable oil wheat salt',\n",
       " 'black pepper shallots cornflour cayenne pepper onions garlic paste milk butter salt lemon juice water chili powder passata oil ground cumin boneless chicken skinless thigh garam masala double cream natural yogurt bay leaf',\n",
       " 'plain flour sugar butter eggs fresh ginger root salt ground cinnamon milk vanilla extract ground ginger powdered sugar baking powder',\n",
       " 'olive oil salt medium shrimp pepper garlic chopped cilantro jalapeno chilies flat leaf parsley skirt steak white vinegar sea salt bay leaf chorizo sausage',\n",
       " 'sugar pistachio nuts white almond bark flour vanilla extract olive oil almond extract eggs baking powder dried cranberries',\n",
       " 'olive oil purple onion fresh pineapple pork poblano peppers corn tortillas cheddar cheese ground black pepper salt iceberg lettuce lime jalapeno chilies chopped cilantro fresh',\n",
       " 'chopped tomatoes fresh basil garlic extra-virgin olive oil kosher salt flat leaf parsley']"
      ]
     },
     "execution_count": 7,
     "metadata": {},
     "output_type": "execute_result"
    }
   ],
   "source": [
    "train_text[:10]"
   ]
  },
  {
   "cell_type": "code",
   "execution_count": 15,
   "metadata": {},
   "outputs": [
    {
     "data": {
      "text/plain": [
       "Counter({'greek': 1175,\n",
       "         'southern_us': 4320,\n",
       "         'filipino': 755,\n",
       "         'indian': 3003,\n",
       "         'jamaican': 526,\n",
       "         'spanish': 989,\n",
       "         'italian': 7838,\n",
       "         'mexican': 6438,\n",
       "         'chinese': 2673,\n",
       "         'british': 804,\n",
       "         'thai': 1539,\n",
       "         'vietnamese': 825,\n",
       "         'cajun_creole': 1546,\n",
       "         'brazilian': 467,\n",
       "         'french': 2646,\n",
       "         'japanese': 1423,\n",
       "         'irish': 667,\n",
       "         'korean': 830,\n",
       "         'moroccan': 821,\n",
       "         'russian': 489})"
      ]
     },
     "execution_count": 15,
     "metadata": {},
     "output_type": "execute_result"
    }
   ],
   "source": [
    "from collections import Counter\n",
    "Counter(target)"
   ]
  },
  {
   "cell_type": "markdown",
   "metadata": {},
   "source": [
    "### Feature engineering"
   ]
  },
  {
   "cell_type": "code",
   "execution_count": 16,
   "metadata": {},
   "outputs": [],
   "source": [
    "tfidf = TfidfVectorizer(binary=True, stop_words='english', min_df=2)"
   ]
  },
  {
   "cell_type": "code",
   "execution_count": 10,
   "metadata": {},
   "outputs": [],
   "source": [
    "X = tfidf.fit_transform(train_text)\n",
    "X = X.astype('float16')"
   ]
  },
  {
   "cell_type": "code",
   "execution_count": 11,
   "metadata": {},
   "outputs": [
    {
     "data": {
      "text/plain": [
       "<39774x3010 sparse matrix of type '<class 'numpy.float16'>'\n",
       "\twith 761951 stored elements in Compressed Sparse Row format>"
      ]
     },
     "execution_count": 11,
     "metadata": {},
     "output_type": "execute_result"
    }
   ],
   "source": [
    "X"
   ]
  },
  {
   "cell_type": "code",
   "execution_count": 13,
   "metadata": {},
   "outputs": [],
   "source": [
    "lb = LabelEncoder()\n",
    "y = lb.fit_transform(target)"
   ]
  },
  {
   "cell_type": "code",
   "execution_count": 14,
   "metadata": {},
   "outputs": [
    {
     "data": {
      "text/plain": [
       "array([ 6, 16,  4, ...,  8,  3, 13])"
      ]
     },
     "execution_count": 14,
     "metadata": {},
     "output_type": "execute_result"
    }
   ],
   "source": [
    "y"
   ]
  },
  {
   "cell_type": "markdown",
   "metadata": {},
   "source": [
    "### Build the model"
   ]
  },
  {
   "cell_type": "code",
   "execution_count": 19,
   "metadata": {},
   "outputs": [],
   "source": [
    "classifier = SVC(C=100, # penalty parameter\n",
    "    kernel='rbf', # kernel type, rbf working fine here\n",
    "    degree=3, # default value\n",
    "    gamma=1, # kernel coefficient\n",
    "    coef0=1, # change to 1 from default value of 0.0\n",
    "    shrinking=True, # using shrinking heuristics\n",
    "    tol=0.001, # stopping criterion tolerance \n",
    "    probability=False, # no need to enable probability estimates\n",
    "    cache_size=200, # 200 MB cache size\n",
    "    class_weight=None, # all classes are treated equally \n",
    "    verbose=False, # print the logs \n",
    "    max_iter=1000, # no limit, let it run\n",
    "#     max_iter=-1, # no limit, let it run\n",
    "    decision_function_shape=None, # will use one vs rest explicitly \n",
    "    random_state=None)\n",
    "model = OneVsRestClassifier(classifier, n_jobs=4)"
   ]
  },
  {
   "cell_type": "code",
   "execution_count": 20,
   "metadata": {},
   "outputs": [],
   "source": [
    "## Model Tuning \n",
    "# parameters = {\"estimator__gamma\":[0.01, 0.5, 0.1, 2, 5]}\n",
    "# grid_search = GridSearchCV(model, param_grid=parameters)\n",
    "# grid_search.fit(X, y)\n",
    "# print grid_search.best_score_\n",
    "# print grid_search.best_params_\n",
    "####"
   ]
  },
  {
   "cell_type": "code",
   "execution_count": 21,
   "metadata": {},
   "outputs": [
    {
     "data": {
      "text/plain": [
       "OneVsRestClassifier(estimator=SVC(C=100, cache_size=200, class_weight=None, coef0=1,\n",
       "  decision_function_shape=None, degree=3, gamma=1, kernel='rbf',\n",
       "  max_iter=1000, probability=False, random_state=None, shrinking=True,\n",
       "  tol=0.001, verbose=False),\n",
       "          n_jobs=4)"
      ]
     },
     "execution_count": 21,
     "metadata": {},
     "output_type": "execute_result"
    }
   ],
   "source": [
    "model.fit(X, y)"
   ]
  },
  {
   "cell_type": "code",
   "execution_count": 22,
   "metadata": {},
   "outputs": [],
   "source": [
    "y_predict = model.predict(X)"
   ]
  },
  {
   "cell_type": "code",
   "execution_count": 25,
   "metadata": {},
   "outputs": [
    {
     "data": {
      "text/plain": [
       "array([[ 467,    0,    0,    0,    0,    0,    0,    0,    0,    0,    0,\n",
       "           0,    0,    0,    0,    0,    0,    0,    0,    0],\n",
       "       [   0,  804,    0,    0,    0,    0,    0,    0,    0,    0,    0,\n",
       "           0,    0,    0,    0,    0,    0,    0,    0,    0],\n",
       "       [   0,    0, 1546,    0,    0,    0,    0,    0,    0,    0,    0,\n",
       "           0,    0,    0,    0,    0,    0,    0,    0,    0],\n",
       "       [   0,    0,    0, 2666,    0,    2,    0,    0,    0,    2,    0,\n",
       "           0,    0,    0,    0,    0,    3,    0,    0,    0],\n",
       "       [   0,    0,    0,    0,  754,    0,    0,    0,    0,    1,    0,\n",
       "           0,    0,    0,    0,    0,    0,    0,    0,    0],\n",
       "       [   0,    1,    0,    1,    0, 2445,    0,    0,    0,  116,    0,\n",
       "           0,    0,    6,    0,    0,   77,    0,    0,    0],\n",
       "       [   0,    0,    0,    0,    0,    0, 1173,    0,    0,    2,    0,\n",
       "           0,    0,    0,    0,    0,    0,    0,    0,    0],\n",
       "       [   0,    0,    0,    0,    0,    2,    0, 3001,    0,    0,    0,\n",
       "           0,    0,    0,    0,    0,    0,    0,    0,    0],\n",
       "       [   0,    0,    0,    0,    0,    0,    0,    0,  665,    0,    0,\n",
       "           0,    0,    1,    0,    0,    1,    0,    0,    0],\n",
       "       [   0,    0,    2,    0,    0,  319,    0,    0,    0, 7285,    0,\n",
       "           0,    0,   24,    0,    0,  202,    6,    0,    0],\n",
       "       [   0,    0,    0,    0,    0,    0,    0,    0,    0,    0,  526,\n",
       "           0,    0,    0,    0,    0,    0,    0,    0,    0],\n",
       "       [   0,    0,    0,    2,    0,    0,    0,    0,    0,    0,    0,\n",
       "        1421,    0,    0,    0,    0,    0,    0,    0,    0],\n",
       "       [   0,    0,    0,    0,    0,    0,    0,    0,    0,    0,    0,\n",
       "           0,  830,    0,    0,    0,    0,    0,    0,    0],\n",
       "       [   0,    0,    0,    0,    0,   10,    0,    0,    0,   14,    0,\n",
       "           0,    0, 6392,    0,    0,   22,    0,    0,    0],\n",
       "       [   0,    0,    0,    0,    0,    0,    0,    0,    0,    0,    0,\n",
       "           0,    0,    0,  821,    0,    0,    0,    0,    0],\n",
       "       [   0,    0,    0,    0,    0,    0,    0,    0,    0,    0,    0,\n",
       "           0,    0,    0,    0,  489,    0,    0,    0,    0],\n",
       "       [   0,    0,    3,    0,    0,  117,    0,    0,    0,   83,    0,\n",
       "           0,    0,   12,    0,    0, 4102,    3,    0,    0],\n",
       "       [   0,    0,    0,    0,    0,    0,    0,    0,    0,    0,    0,\n",
       "           0,    0,    1,    0,    0,    0,  988,    0,    0],\n",
       "       [   0,    0,    0,    0,    0,    0,    0,    0,    0,    0,    0,\n",
       "           0,    0,    0,    0,    0,    0,    0, 1539,    0],\n",
       "       [   0,    1,    0,    0,    0,    0,    0,    0,    0,    0,    0,\n",
       "           0,    0,    0,    1,    0,    0,    0,    0,  823]])"
      ]
     },
     "execution_count": 25,
     "metadata": {},
     "output_type": "execute_result"
    }
   ],
   "source": [
    "from sklearn.metrics import confusion_matrix\n",
    "confusion_matrix(y, y_predict)"
   ]
  },
  {
   "cell_type": "code",
   "execution_count": null,
   "metadata": {},
   "outputs": [],
   "source": []
  }
 ],
 "metadata": {
  "kernelspec": {
   "display_name": "Python 3",
   "language": "python",
   "name": "python3"
  },
  "language_info": {
   "codemirror_mode": {
    "name": "ipython",
    "version": 3
   },
   "file_extension": ".py",
   "mimetype": "text/x-python",
   "name": "python",
   "nbconvert_exporter": "python",
   "pygments_lexer": "ipython3",
   "version": "3.6.7"
  }
 },
 "nbformat": 4,
 "nbformat_minor": 2
}
