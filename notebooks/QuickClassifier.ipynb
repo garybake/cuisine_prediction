{
 "cells": [
  {
   "cell_type": "code",
   "execution_count": null,
   "metadata": {},
   "outputs": [],
   "source": []
  },
  {
   "cell_type": "code",
   "execution_count": 1,
   "metadata": {},
   "outputs": [],
   "source": [
    "import json\n",
    "import os\n",
    "\n",
    "import pandas as pd\n",
    "\n",
    "from sklearn.pipeline import Pipeline\n",
    "from sklearn.feature_extraction.text import CountVectorizer\n",
    "from sklearn.svm import LinearSVC\n",
    "from sklearn.feature_extraction.text import TfidfTransformer\n",
    "from sklearn.multiclass import OneVsRestClassifier"
   ]
  },
  {
   "cell_type": "markdown",
   "metadata": {},
   "source": [
    "### Import data"
   ]
  },
  {
   "cell_type": "code",
   "execution_count": 2,
   "metadata": {},
   "outputs": [],
   "source": [
    "data_folder = '../data'\n",
    "train_file = os.path.join(data_folder, 'train.json')\n",
    "test_file = os.path.join(data_folder, 'test.json')"
   ]
  },
  {
   "cell_type": "code",
   "execution_count": 3,
   "metadata": {},
   "outputs": [],
   "source": [
    "train = json.load(open(train_file)) \n",
    "test = json.load(open(test_file)) "
   ]
  },
  {
   "cell_type": "code",
   "execution_count": 4,
   "metadata": {},
   "outputs": [
    {
     "data": {
      "text/plain": [
       "(39774, 9944)"
      ]
     },
     "execution_count": 4,
     "metadata": {},
     "output_type": "execute_result"
    }
   ],
   "source": [
    "len(train), len(test)"
   ]
  },
  {
   "cell_type": "code",
   "execution_count": 5,
   "metadata": {},
   "outputs": [
    {
     "data": {
      "text/plain": [
       "[{'id': 10259,\n",
       "  'cuisine': 'greek',\n",
       "  'ingredients': ['romaine lettuce',\n",
       "   'black olives',\n",
       "   'grape tomatoes',\n",
       "   'garlic',\n",
       "   'pepper',\n",
       "   'purple onion',\n",
       "   'seasoning',\n",
       "   'garbanzo beans',\n",
       "   'feta cheese crumbles']}]"
      ]
     },
     "execution_count": 5,
     "metadata": {},
     "output_type": "execute_result"
    }
   ],
   "source": [
    "train[:1]"
   ]
  },
  {
   "cell_type": "markdown",
   "metadata": {},
   "source": [
    "### Prepare data"
   ]
  },
  {
   "cell_type": "code",
   "execution_count": 6,
   "metadata": {},
   "outputs": [],
   "source": [
    "train_text = [\" \".join(doc['ingredients']) for doc in train]\n",
    "y = [doc['cuisine'] for doc in train]\n",
    "test_text = [\" \".join(doc['ingredients']) for doc in test]"
   ]
  },
  {
   "cell_type": "code",
   "execution_count": 8,
   "metadata": {},
   "outputs": [
    {
     "data": {
      "text/plain": [
       "(39774, 39774)"
      ]
     },
     "execution_count": 8,
     "metadata": {},
     "output_type": "execute_result"
    }
   ],
   "source": [
    "len(train_text), len(y)"
   ]
  },
  {
   "cell_type": "code",
   "execution_count": 9,
   "metadata": {},
   "outputs": [
    {
     "data": {
      "text/plain": [
       "['romaine lettuce black olives grape tomatoes garlic pepper purple onion seasoning garbanzo beans feta cheese crumbles',\n",
       " 'plain flour ground pepper salt tomatoes ground black pepper thyme eggs green tomatoes yellow corn meal milk vegetable oil',\n",
       " 'eggs pepper salt mayonaise cooking oil green chilies grilled chicken breasts garlic powder yellow onion soy sauce butter chicken livers',\n",
       " 'water vegetable oil wheat salt',\n",
       " 'black pepper shallots cornflour cayenne pepper onions garlic paste milk butter salt lemon juice water chili powder passata oil ground cumin boneless chicken skinless thigh garam masala double cream natural yogurt bay leaf',\n",
       " 'plain flour sugar butter eggs fresh ginger root salt ground cinnamon milk vanilla extract ground ginger powdered sugar baking powder',\n",
       " 'olive oil salt medium shrimp pepper garlic chopped cilantro jalapeno chilies flat leaf parsley skirt steak white vinegar sea salt bay leaf chorizo sausage',\n",
       " 'sugar pistachio nuts white almond bark flour vanilla extract olive oil almond extract eggs baking powder dried cranberries',\n",
       " 'olive oil purple onion fresh pineapple pork poblano peppers corn tortillas cheddar cheese ground black pepper salt iceberg lettuce lime jalapeno chilies chopped cilantro fresh',\n",
       " 'chopped tomatoes fresh basil garlic extra-virgin olive oil kosher salt flat leaf parsley']"
      ]
     },
     "execution_count": 9,
     "metadata": {},
     "output_type": "execute_result"
    }
   ],
   "source": [
    "train_text[:10]"
   ]
  },
  {
   "cell_type": "code",
   "execution_count": 11,
   "metadata": {},
   "outputs": [
    {
     "data": {
      "text/plain": [
       "Counter({'greek': 1175,\n",
       "         'southern_us': 4320,\n",
       "         'filipino': 755,\n",
       "         'indian': 3003,\n",
       "         'jamaican': 526,\n",
       "         'spanish': 989,\n",
       "         'italian': 7838,\n",
       "         'mexican': 6438,\n",
       "         'chinese': 2673,\n",
       "         'british': 804,\n",
       "         'thai': 1539,\n",
       "         'vietnamese': 825,\n",
       "         'cajun_creole': 1546,\n",
       "         'brazilian': 467,\n",
       "         'french': 2646,\n",
       "         'japanese': 1423,\n",
       "         'irish': 667,\n",
       "         'korean': 830,\n",
       "         'moroccan': 821,\n",
       "         'russian': 489})"
      ]
     },
     "execution_count": 11,
     "metadata": {},
     "output_type": "execute_result"
    }
   ],
   "source": [
    "from collections import Counter\n",
    "Counter(y)"
   ]
  },
  {
   "cell_type": "markdown",
   "metadata": {},
   "source": [
    "### Feature engineering"
   ]
  },
  {
   "cell_type": "code",
   "execution_count": 12,
   "metadata": {},
   "outputs": [],
   "source": [
    "#pre-processing\n",
    "import re \n",
    "def clean_str(string):\n",
    "    \"\"\"\n",
    "    Tokenization/string cleaning for dataset\n",
    "    Every dataset is lower cased except\n",
    "    \"\"\"\n",
    "    string = re.sub(r\"\\n\", \"\", string)    \n",
    "    string = re.sub(r\"\\r\", \"\", string) \n",
    "    string = re.sub(r\"[0-9]\", \"digit\", string)\n",
    "    string = re.sub(r\"\\'\", \"\", string)    \n",
    "    string = re.sub(r\"\\\"\", \"\", string)    \n",
    "    return string.strip().lower()"
   ]
  },
  {
   "cell_type": "code",
   "execution_count": 13,
   "metadata": {},
   "outputs": [],
   "source": [
    "X = []\n",
    "for i in range(len(train_text)):\n",
    "    X.append(clean_str(train_text[i]))\n",
    "# y = np.array(df[\"cuisine\"])\n"
   ]
  },
  {
   "cell_type": "code",
   "execution_count": 14,
   "metadata": {},
   "outputs": [],
   "source": [
    "#train test split\n",
    "from sklearn.model_selection import train_test_split\n",
    "X_train, X_test, y_train, y_test = train_test_split(X, y, test_size=0.3, random_state=5)"
   ]
  },
  {
   "cell_type": "code",
   "execution_count": 15,
   "metadata": {},
   "outputs": [],
   "source": [
    "model = Pipeline([\n",
    "    ('vectorizer', CountVectorizer()),\n",
    "    ('tfidf', TfidfTransformer()),\n",
    "    ('clf', OneVsRestClassifier(LinearSVC(class_weight=\"balanced\")))\n",
    "])"
   ]
  },
  {
   "cell_type": "code",
   "execution_count": 16,
   "metadata": {},
   "outputs": [],
   "source": [
    "from sklearn.model_selection import GridSearchCV\n",
    "parameters = {'vectorizer__ngram_range': [(1, 1), (1, 2),(2,2)],\n",
    "               'tfidf__use_idf': (True, False)}"
   ]
  },
  {
   "cell_type": "code",
   "execution_count": 17,
   "metadata": {},
   "outputs": [],
   "source": [
    "# gs_clf_svm = GridSearchCV(model, parameters, n_jobs=-1)\n",
    "# gs_clf_svm = gs_clf_svm.fit(X, y)\n",
    "# print(gs_clf_svm.best_score_)\n",
    "# print(gs_clf_svm.best_params_)\n",
    "# {'tfidf__use_idf': True, 'vectorizer__ngram_range': (1, 2)}"
   ]
  },
  {
   "cell_type": "code",
   "execution_count": 18,
   "metadata": {},
   "outputs": [],
   "source": [
    "#preparing the final pipeline using the selected parameters\n",
    "model = Pipeline([('vectorizer', CountVectorizer(ngram_range=(1,2))),\n",
    "    ('tfidf', TfidfTransformer(use_idf=True)),\n",
    "    ('clf', OneVsRestClassifier(LinearSVC(class_weight=\"balanced\")))])"
   ]
  },
  {
   "cell_type": "code",
   "execution_count": 19,
   "metadata": {},
   "outputs": [
    {
     "data": {
      "text/plain": [
       "Pipeline(memory=None,\n",
       "     steps=[('vectorizer', CountVectorizer(analyzer='word', binary=False, decode_error='strict',\n",
       "        dtype=<class 'numpy.int64'>, encoding='utf-8', input='content',\n",
       "        lowercase=True, max_df=1.0, max_features=None, min_df=1,\n",
       "        ngram_range=(1, 2), preprocessor=None, stop_words=None,\n",
       "       ..._class='ovr', penalty='l2', random_state=None, tol=0.0001,\n",
       "     verbose=0),\n",
       "          n_jobs=None))])"
      ]
     },
     "execution_count": 19,
     "metadata": {},
     "output_type": "execute_result"
    }
   ],
   "source": [
    "#fit model with training data\n",
    "model.fit(X_train, y_train)"
   ]
  },
  {
   "cell_type": "code",
   "execution_count": 20,
   "metadata": {},
   "outputs": [],
   "source": [
    "#evaluation on test data\n",
    "pred = model.predict(X_test)"
   ]
  },
  {
   "cell_type": "code",
   "execution_count": 21,
   "metadata": {},
   "outputs": [
    {
     "data": {
      "text/plain": [
       "array(['brazilian', 'british', 'cajun_creole', 'chinese', 'filipino',\n",
       "       'french', 'greek', 'indian', 'irish', 'italian', 'jamaican',\n",
       "       'japanese', 'korean', 'mexican', 'moroccan', 'russian',\n",
       "       'southern_us', 'spanish', 'thai', 'vietnamese'], dtype='<U12')"
      ]
     },
     "execution_count": 21,
     "metadata": {},
     "output_type": "execute_result"
    }
   ],
   "source": [
    "model.classes_"
   ]
  },
  {
   "cell_type": "code",
   "execution_count": 22,
   "metadata": {},
   "outputs": [
    {
     "data": {
      "text/plain": [
       "array([[  68,    0,    0,    0,    7,    1,    1,    2,    0,    2,    2,\n",
       "           2,    0,    0,    0,    0,    3,    2,    4,    1],\n",
       "       [   0,  114,    2,    1,    2,   17,    2,    3,   16,    8,    4,\n",
       "           3,    1,    4,    0,    9,   23,    1,    2,    2],\n",
       "       [   5,    4,  340,    3,    1,    8,    1,    2,    0,   10,    2,\n",
       "           1,    0,    6,    1,    3,   62,    5,    0,    0],\n",
       "       [   1,    1,    3,  667,   22,    3,    1,    5,    2,    4,    4,\n",
       "          51,   40,    9,    1,    1,    1,    1,   25,   29],\n",
       "       [   5,    3,    1,    5,  146,    4,    0,    3,    0,    1,    1,\n",
       "           6,    1,    4,    0,    1,    6,    3,    4,    7],\n",
       "       [   4,   35,   18,    3,    3,  493,   10,    5,   23,  126,    2,\n",
       "           7,    1,   29,    6,   25,   55,   29,    0,    0],\n",
       "       [   0,    5,    0,    1,    0,   11,  249,    5,    3,   31,    1,\n",
       "           0,    0,    4,   11,    4,    3,    3,    1,    0],\n",
       "       [   3,    4,    1,    5,    2,    3,    6,  799,    4,    7,    5,\n",
       "          37,    0,   11,   21,    1,    7,    2,   17,    0],\n",
       "       [   1,   13,    1,    0,    0,   18,    1,    0,   98,    4,    0,\n",
       "           1,    2,    2,    2,    3,   15,    2,    0,    0],\n",
       "       [   6,   15,   24,   10,    6,  128,   59,    7,    9, 2109,    2,\n",
       "           7,    1,   40,    3,   19,   39,   46,    6,    3],\n",
       "       [   3,    6,    1,    0,    2,    2,    1,    2,    0,    1,  108,\n",
       "           2,    0,    3,    2,    1,    2,    2,    1,    0],\n",
       "       [   0,    0,    0,   22,    7,    0,    1,    0,    0,    1,    1,\n",
       "         304,   10,    1,    0,    1,    0,    0,    3,    2],\n",
       "       [   0,    0,    0,   16,    3,    1,    0,    0,    0,    0,    1,\n",
       "          11,  184,    2,    0,    1,    3,    0,    6,    1],\n",
       "       [  18,    2,   12,    4,    4,    6,    1,   11,    4,   19,   10,\n",
       "           0,    0, 1724,    6,    4,   32,   29,    4,    2],\n",
       "       [   1,    0,    1,    1,    0,    4,    5,   11,    0,    4,    0,\n",
       "           0,    0,    4,  183,    0,    3,    3,    1,    0],\n",
       "       [   3,    5,    2,    0,    1,   11,    2,    1,    1,    7,    2,\n",
       "           2,    0,    3,    0,   51,    9,    1,    0,    0],\n",
       "       [   7,   41,   60,    7,   13,   53,    7,    9,   24,   56,    9,\n",
       "           6,    2,   44,    0,   15, 1031,   10,    3,    6],\n",
       "       [   5,    5,    5,    1,    1,   10,    4,    6,    2,   30,    1,\n",
       "           0,    2,   12,    6,    6,   10,  141,    0,    3],\n",
       "       [   2,    0,    0,   15,    8,    0,    0,    6,    0,    0,    1,\n",
       "           3,    2,    4,    0,    1,    3,    1,  360,   51],\n",
       "       [   0,    0,    1,   14,   11,    1,    0,    0,    1,    0,    0,\n",
       "           1,    7,    2,    0,    0,    2,    1,   26,  143]])"
      ]
     },
     "execution_count": 22,
     "metadata": {},
     "output_type": "execute_result"
    }
   ],
   "source": [
    "from sklearn.metrics import confusion_matrix, accuracy_score\n",
    "confusion_matrix(pred, y_test)"
   ]
  },
  {
   "cell_type": "code",
   "execution_count": 23,
   "metadata": {},
   "outputs": [
    {
     "data": {
      "text/plain": [
       "0.780356993212101"
      ]
     },
     "execution_count": 23,
     "metadata": {},
     "output_type": "execute_result"
    }
   ],
   "source": [
    "accuracy_score(y_test, pred)"
   ]
  },
  {
   "cell_type": "code",
   "execution_count": 32,
   "metadata": {},
   "outputs": [
    {
     "data": {
      "text/plain": [
       "['wider_model.joblib']"
      ]
     },
     "execution_count": 32,
     "metadata": {},
     "output_type": "execute_result"
    }
   ],
   "source": [
    "#save the model\n",
    "from sklearn.externals import joblib\n",
    "joblib.dump(model, 'wider_model.joblib', compress=1)"
   ]
  },
  {
   "cell_type": "code",
   "execution_count": 33,
   "metadata": {},
   "outputs": [],
   "source": [
    "from sklearn.externals import joblib\n",
    "model = joblib.load('wider_model.joblib')"
   ]
  },
  {
   "cell_type": "code",
   "execution_count": 34,
   "metadata": {},
   "outputs": [],
   "source": [
    "test_recipe = \"1 2 1/2  to 3 pound boneless pork shoulder or butt, trimmed and cut in half 1 small butternut squash (about 1 1/2 pounds)—peeled, seeded, and cut into 1 inch pieces 1 14.5 ounce can diced tomatoes 1 jalapeño pepper, seeded and chopped 2 cloves garlic, chopped 1 tablespoon chili powder kosher salt 4 6 inch corn tortillas, cut into 1/2 inch wide strips 1 tablespoon canola oil sliced radishes, cilantro sprigs, and lime wedges, for serving\""
   ]
  },
  {
   "cell_type": "code",
   "execution_count": 35,
   "metadata": {},
   "outputs": [
    {
     "data": {
      "text/plain": [
       "'mexican'"
      ]
     },
     "execution_count": 35,
     "metadata": {},
     "output_type": "execute_result"
    }
   ],
   "source": [
    "model.predict([test_recipe])[0]"
   ]
  },
  {
   "cell_type": "code",
   "execution_count": 36,
   "metadata": {},
   "outputs": [],
   "source": [
    "steak_hache = \"1 tbsp vegetable oil 4 shallots  , very finely chopped 600g freshly ground beef   (ask the butcher for something with roughly 15% fat - we used chuck) 8 thyme sprigs, leaves picked and chopped 2 tsp Dijon mustard 2 tbsp plain flour 200ml crème fraîche 1 egg yolk 6 tarragon   sprigs, leaves picked and finely chopped dressed green salad, to serve\""
   ]
  },
  {
   "cell_type": "code",
   "execution_count": 37,
   "metadata": {},
   "outputs": [
    {
     "data": {
      "text/plain": [
       "'french'"
      ]
     },
     "execution_count": 37,
     "metadata": {},
     "output_type": "execute_result"
    }
   ],
   "source": [
    "model.predict([steak_hache])[0]"
   ]
  },
  {
   "cell_type": "code",
   "execution_count": 38,
   "metadata": {},
   "outputs": [],
   "source": [
    "toad_in_the_hole = \"140g plain flour 3 eggs  300ml milk  2 tsp Dijon mustard 2 tbsp vegetable oil 8 Cumberland sausages 8 sage   leaves 4 rosemary   sprigs\""
   ]
  },
  {
   "cell_type": "code",
   "execution_count": 39,
   "metadata": {},
   "outputs": [
    {
     "data": {
      "text/plain": [
       "'british'"
      ]
     },
     "execution_count": 39,
     "metadata": {},
     "output_type": "execute_result"
    }
   ],
   "source": [
    "model.predict([toad_in_the_hole])[0]"
   ]
  },
  {
   "cell_type": "code",
   "execution_count": null,
   "metadata": {},
   "outputs": [],
   "source": []
  },
  {
   "cell_type": "code",
   "execution_count": null,
   "metadata": {},
   "outputs": [],
   "source": []
  }
 ],
 "metadata": {
  "kernelspec": {
   "display_name": "Python 3",
   "language": "python",
   "name": "python3"
  },
  "language_info": {
   "codemirror_mode": {
    "name": "ipython",
    "version": 3
   },
   "file_extension": ".py",
   "mimetype": "text/x-python",
   "name": "python",
   "nbconvert_exporter": "python",
   "pygments_lexer": "ipython3",
   "version": "3.6.7"
  }
 },
 "nbformat": 4,
 "nbformat_minor": 2
}
